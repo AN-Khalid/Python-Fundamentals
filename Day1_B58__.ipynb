{
 "cells": [
  {
   "cell_type": "code",
   "execution_count": 1,
   "id": "fc71a3cf",
   "metadata": {},
   "outputs": [
    {
     "name": "stdout",
     "output_type": "stream",
     "text": [
      "Hello all welcome to the python world\n"
     ]
    }
   ],
   "source": [
    "print(\"Hello all welcome to the python world\")"
   ]
  },
  {
   "cell_type": "code",
   "execution_count": null,
   "id": "334dd705",
   "metadata": {},
   "outputs": [],
   "source": [
    "Rename===>Rename===>Day1_B58"
   ]
  },
  {
   "cell_type": "code",
   "execution_count": null,
   "id": "186bbe3d",
   "metadata": {},
   "outputs": [],
   "source": [
    "shift+enter on the keyboard together"
   ]
  },
  {
   "cell_type": "code",
   "execution_count": null,
   "id": "4266ee9c",
   "metadata": {},
   "outputs": [],
   "source": [
    "file===>download===>notebook.ipynb"
   ]
  }
 ],
 "metadata": {
  "kernelspec": {
   "display_name": "Python 3 (ipykernel)",
   "language": "python",
   "name": "python3"
  },
  "language_info": {
   "codemirror_mode": {
    "name": "ipython",
    "version": 3
   },
   "file_extension": ".py",
   "mimetype": "text/x-python",
   "name": "python",
   "nbconvert_exporter": "python",
   "pygments_lexer": "ipython3",
   "version": "3.9.7"
  }
 },
 "nbformat": 4,
 "nbformat_minor": 5
}
