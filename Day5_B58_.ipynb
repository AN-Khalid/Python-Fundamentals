{
 "cells": [
  {
   "cell_type": "code",
   "execution_count": null,
   "id": "93b1aad6",
   "metadata": {},
   "outputs": [],
   "source": [
    "continuation with list datatype"
   ]
  },
  {
   "cell_type": "code",
   "execution_count": null,
   "id": "623f24e9",
   "metadata": {},
   "outputs": [],
   "source": []
  },
  {
   "cell_type": "code",
   "execution_count": null,
   "id": "3183102b",
   "metadata": {},
   "outputs": [],
   "source": [
    "organising the list datatypes :"
   ]
  },
  {
   "cell_type": "code",
   "execution_count": null,
   "id": "c7bbaf01",
   "metadata": {},
   "outputs": [],
   "source": []
  },
  {
   "cell_type": "code",
   "execution_count": 1,
   "id": "72726379",
   "metadata": {},
   "outputs": [],
   "source": [
    "cars = ['kia', 'suzuki', 'audi', 'benz', 'tata', 'bmw']"
   ]
  },
  {
   "cell_type": "code",
   "execution_count": 2,
   "id": "f5a2b72d",
   "metadata": {},
   "outputs": [
    {
     "name": "stdout",
     "output_type": "stream",
     "text": [
      "['kia', 'suzuki', 'audi', 'benz', 'tata', 'bmw']\n"
     ]
    }
   ],
   "source": [
    "print(cars)"
   ]
  },
  {
   "cell_type": "code",
   "execution_count": null,
   "id": "854bb18e",
   "metadata": {},
   "outputs": [],
   "source": [
    "#req = I want to display the list in the alphabetical order ...? A-z"
   ]
  },
  {
   "cell_type": "code",
   "execution_count": null,
   "id": "007db704",
   "metadata": {},
   "outputs": [],
   "source": [
    "1. temp approach ======> changes are applied temp ===> sorted \n",
    "2. permanent approac ====> changes are applied permanently =====> sort"
   ]
  },
  {
   "cell_type": "code",
   "execution_count": 3,
   "id": "c7a85f58",
   "metadata": {},
   "outputs": [
    {
     "name": "stdout",
     "output_type": "stream",
     "text": [
      "['audi', 'benz', 'bmw', 'kia', 'suzuki', 'tata']\n"
     ]
    }
   ],
   "source": [
    "print(sorted(cars)) # temp approach"
   ]
  },
  {
   "cell_type": "code",
   "execution_count": 5,
   "id": "87e2af00",
   "metadata": {},
   "outputs": [
    {
     "name": "stdout",
     "output_type": "stream",
     "text": [
      "['kia', 'suzuki', 'audi', 'benz', 'tata', 'bmw']\n"
     ]
    }
   ],
   "source": [
    "print(cars) # it is giving me the original order.... !"
   ]
  },
  {
   "cell_type": "code",
   "execution_count": null,
   "id": "a715244f",
   "metadata": {},
   "outputs": [],
   "source": []
  },
  {
   "cell_type": "code",
   "execution_count": 7,
   "id": "32278272",
   "metadata": {},
   "outputs": [],
   "source": [
    "cars.sort()   # permanent approach"
   ]
  },
  {
   "cell_type": "code",
   "execution_count": 8,
   "id": "c0663ffa",
   "metadata": {},
   "outputs": [
    {
     "name": "stdout",
     "output_type": "stream",
     "text": [
      "['audi', 'benz', 'bmw', 'kia', 'suzuki', 'tata']\n"
     ]
    }
   ],
   "source": [
    "print(cars)"
   ]
  },
  {
   "cell_type": "code",
   "execution_count": 9,
   "id": "7ae89248",
   "metadata": {},
   "outputs": [
    {
     "name": "stdout",
     "output_type": "stream",
     "text": [
      "['audi', 'benz', 'bmw', 'kia', 'suzuki', 'tata']\n"
     ]
    }
   ],
   "source": [
    "print(cars) # changes are applied permanently"
   ]
  },
  {
   "cell_type": "code",
   "execution_count": null,
   "id": "dcae82ad",
   "metadata": {},
   "outputs": [],
   "source": [
    "Interview : what is the difference btw sorted and sort method in a list datatype ? explain ?"
   ]
  },
  {
   "cell_type": "code",
   "execution_count": null,
   "id": "5cccc25d",
   "metadata": {},
   "outputs": [],
   "source": []
  },
  {
   "cell_type": "code",
   "execution_count": 10,
   "id": "731c19e5",
   "metadata": {},
   "outputs": [
    {
     "name": "stdout",
     "output_type": "stream",
     "text": [
      "['audi', 'benz', 'bmw', 'kia', 'suzuki', 'tata']\n"
     ]
    }
   ],
   "source": [
    "print(cars)"
   ]
  },
  {
   "cell_type": "code",
   "execution_count": null,
   "id": "0110359b",
   "metadata": {},
   "outputs": [],
   "source": [
    "# req : I want to print the list in the reverse order...?"
   ]
  },
  {
   "cell_type": "code",
   "execution_count": 11,
   "id": "cb55c6a7",
   "metadata": {},
   "outputs": [],
   "source": [
    "cars.reverse()"
   ]
  },
  {
   "cell_type": "code",
   "execution_count": 12,
   "id": "8584a9aa",
   "metadata": {},
   "outputs": [
    {
     "name": "stdout",
     "output_type": "stream",
     "text": [
      "['tata', 'suzuki', 'kia', 'bmw', 'benz', 'audi']\n"
     ]
    }
   ],
   "source": [
    "print(cars) # revers order Z-A"
   ]
  },
  {
   "cell_type": "code",
   "execution_count": null,
   "id": "cc5d0c5b",
   "metadata": {},
   "outputs": [],
   "source": [
    "# req : I want to count the number of elements in the list...? "
   ]
  },
  {
   "cell_type": "code",
   "execution_count": 13,
   "id": "51cdbdbe",
   "metadata": {},
   "outputs": [
    {
     "data": {
      "text/plain": [
       "6"
      ]
     },
     "execution_count": 13,
     "metadata": {},
     "output_type": "execute_result"
    }
   ],
   "source": [
    "len(cars)"
   ]
  },
  {
   "cell_type": "code",
   "execution_count": null,
   "id": "27b2de35",
   "metadata": {},
   "outputs": [],
   "source": []
  },
  {
   "cell_type": "code",
   "execution_count": null,
   "id": "a56d336b",
   "metadata": {},
   "outputs": [],
   "source": [
    "Introduction to slicing : "
   ]
  },
  {
   "cell_type": "code",
   "execution_count": null,
   "id": "181f97fa",
   "metadata": {},
   "outputs": [],
   "source": []
  },
  {
   "cell_type": "code",
   "execution_count": 14,
   "id": "1f5a75a2",
   "metadata": {},
   "outputs": [],
   "source": [
    "students = ('ravi','joseph','naved','imran','keerthi','shaheen','dolly','roohi')"
   ]
  },
  {
   "cell_type": "code",
   "execution_count": 19,
   "id": "335083c0",
   "metadata": {},
   "outputs": [
    {
     "name": "stdout",
     "output_type": "stream",
     "text": [
      "('ravi', 'joseph', 'naved', 'imran', 'keerthi', 'shaheen', 'dolly', 'roohi')\n"
     ]
    }
   ],
   "source": [
    "print(students)"
   ]
  },
  {
   "cell_type": "code",
   "execution_count": 20,
   "id": "50882e91",
   "metadata": {},
   "outputs": [
    {
     "data": {
      "text/plain": [
       "tuple"
      ]
     },
     "execution_count": 20,
     "metadata": {},
     "output_type": "execute_result"
    }
   ],
   "source": [
    "type(students)"
   ]
  },
  {
   "cell_type": "code",
   "execution_count": 21,
   "id": "55e6cc8e",
   "metadata": {},
   "outputs": [
    {
     "data": {
      "text/plain": [
       "tuple"
      ]
     },
     "execution_count": 21,
     "metadata": {},
     "output_type": "execute_result"
    }
   ],
   "source": [
    "type(students)"
   ]
  },
  {
   "cell_type": "code",
   "execution_count": 22,
   "id": "6adb61a5",
   "metadata": {},
   "outputs": [],
   "source": [
    "students = ['ravi','joseph','naved','imran','keerthi','shaheen','dolly','roohi']"
   ]
  },
  {
   "cell_type": "code",
   "execution_count": 23,
   "id": "03fa6741",
   "metadata": {},
   "outputs": [
    {
     "data": {
      "text/plain": [
       "list"
      ]
     },
     "execution_count": 23,
     "metadata": {},
     "output_type": "execute_result"
    }
   ],
   "source": [
    "type(students)"
   ]
  },
  {
   "cell_type": "code",
   "execution_count": null,
   "id": "8c5dfe21",
   "metadata": {},
   "outputs": [],
   "source": [
    "general syntax for slicing :"
   ]
  },
  {
   "cell_type": "code",
   "execution_count": null,
   "id": "b3061d20",
   "metadata": {},
   "outputs": [],
   "source": [
    "list[startvalue:stopvalue:stepcount]\n",
    "\n",
    "Note : Stop value is always exclusive, to include the stop value have to increase the index by +1."
   ]
  },
  {
   "cell_type": "code",
   "execution_count": null,
   "id": "7e45426a",
   "metadata": {},
   "outputs": [],
   "source": [
    "# Req : I want to include ravi and joseph in the list"
   ]
  },
  {
   "cell_type": "code",
   "execution_count": 24,
   "id": "b409815e",
   "metadata": {},
   "outputs": [
    {
     "name": "stdout",
     "output_type": "stream",
     "text": [
      "['ravi']\n"
     ]
    }
   ],
   "source": [
    "print(students[0:1])"
   ]
  },
  {
   "cell_type": "code",
   "execution_count": 25,
   "id": "fc392841",
   "metadata": {},
   "outputs": [
    {
     "name": "stdout",
     "output_type": "stream",
     "text": [
      "['ravi', 'joseph']\n"
     ]
    }
   ],
   "source": [
    "print(students[0:2]) #Req : ravi and Joseph"
   ]
  },
  {
   "cell_type": "code",
   "execution_count": 26,
   "id": "0cfd7579",
   "metadata": {},
   "outputs": [
    {
     "name": "stdout",
     "output_type": "stream",
     "text": [
      "['naved', 'imran']\n"
     ]
    }
   ],
   "source": [
    "print(students[2:4]) # req : naved and imran"
   ]
  },
  {
   "cell_type": "code",
   "execution_count": null,
   "id": "a73f57a4",
   "metadata": {},
   "outputs": [],
   "source": [
    "# req : dolly and roohi"
   ]
  },
  {
   "cell_type": "code",
   "execution_count": 27,
   "id": "ac31f91d",
   "metadata": {},
   "outputs": [
    {
     "name": "stdout",
     "output_type": "stream",
     "text": [
      "['dolly', 'roohi']\n"
     ]
    }
   ],
   "source": [
    "print(students[6:8])"
   ]
  },
  {
   "cell_type": "code",
   "execution_count": 28,
   "id": "5f54cb85",
   "metadata": {},
   "outputs": [
    {
     "name": "stdout",
     "output_type": "stream",
     "text": [
      "['ravi', 'joseph', 'naved', 'imran', 'keerthi', 'shaheen', 'dolly', 'roohi']\n"
     ]
    }
   ],
   "source": [
    "print(students)"
   ]
  },
  {
   "cell_type": "code",
   "execution_count": 29,
   "id": "e01580c0",
   "metadata": {},
   "outputs": [
    {
     "name": "stdout",
     "output_type": "stream",
     "text": [
      "['ravi', 'naved', 'keerthi', 'dolly']\n"
     ]
    }
   ],
   "source": [
    "print(students[0:7:2]) # index difference of two upto index 7 "
   ]
  },
  {
   "cell_type": "code",
   "execution_count": 30,
   "id": "e0842573",
   "metadata": {},
   "outputs": [
    {
     "name": "stdout",
     "output_type": "stream",
     "text": [
      "['ravi', 'imran']\n"
     ]
    }
   ],
   "source": [
    "print(students[0:6:3])  # index difference of three upto index 6 "
   ]
  },
  {
   "cell_type": "code",
   "execution_count": null,
   "id": "9c700f41",
   "metadata": {},
   "outputs": [],
   "source": []
  }
 ],
 "metadata": {
  "kernelspec": {
   "display_name": "Python 3 (ipykernel)",
   "language": "python",
   "name": "python3"
  },
  "language_info": {
   "codemirror_mode": {
    "name": "ipython",
    "version": 3
   },
   "file_extension": ".py",
   "mimetype": "text/x-python",
   "name": "python",
   "nbconvert_exporter": "python",
   "pygments_lexer": "ipython3",
   "version": "3.9.7"
  },
  "widgets": {
   "application/vnd.jupyter.widget-state+json": {
    "state": {},
    "version_major": 2,
    "version_minor": 0
   }
  }
 },
 "nbformat": 4,
 "nbformat_minor": 5
}
