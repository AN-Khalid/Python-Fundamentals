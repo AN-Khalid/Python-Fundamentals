{
 "cells": [
  {
   "cell_type": "code",
   "execution_count": null,
   "id": "ba8e82ba",
   "metadata": {},
   "outputs": [],
   "source": [
    "Understanding the for loops :"
   ]
  },
  {
   "cell_type": "code",
   "execution_count": null,
   "id": "31d99020",
   "metadata": {},
   "outputs": [],
   "source": []
  },
  {
   "cell_type": "code",
   "execution_count": 1,
   "id": "6b5c1ca9",
   "metadata": {},
   "outputs": [],
   "source": [
    "students = ['kumar','naveen','vinaya','samreen','naveed','sohail']"
   ]
  },
  {
   "cell_type": "code",
   "execution_count": 2,
   "id": "82416d1c",
   "metadata": {},
   "outputs": [
    {
     "name": "stdout",
     "output_type": "stream",
     "text": [
      "['kumar', 'naveen', 'vinaya', 'samreen', 'naveed', 'sohail']\n"
     ]
    }
   ],
   "source": [
    "print(students)"
   ]
  },
  {
   "cell_type": "code",
   "execution_count": null,
   "id": "74a0b325",
   "metadata": {},
   "outputs": [],
   "source": []
  },
  {
   "cell_type": "code",
   "execution_count": null,
   "id": "0ac9bcf4",
   "metadata": {},
   "outputs": [],
   "source": [
    "1st approach"
   ]
  },
  {
   "cell_type": "code",
   "execution_count": 4,
   "id": "22971ec9",
   "metadata": {},
   "outputs": [
    {
     "name": "stdout",
     "output_type": "stream",
     "text": [
      "keep up the good work, kumar\n"
     ]
    }
   ],
   "source": [
    "message = f\"keep up the good work, {students[0]}\"\n",
    "\n",
    "print(message)"
   ]
  },
  {
   "cell_type": "code",
   "execution_count": 5,
   "id": "f33e5b8e",
   "metadata": {},
   "outputs": [
    {
     "name": "stdout",
     "output_type": "stream",
     "text": [
      "keep up the good work, naveen\n"
     ]
    }
   ],
   "source": [
    "message = f\"keep up the good work, {students[1]}\"\n",
    "\n",
    "print(message)"
   ]
  },
  {
   "cell_type": "code",
   "execution_count": 6,
   "id": "3946de22",
   "metadata": {},
   "outputs": [
    {
     "name": "stdout",
     "output_type": "stream",
     "text": [
      "keep up the good work, vinaya\n"
     ]
    }
   ],
   "source": [
    "message = f\"keep up the good work, {students[2]}\"\n",
    "\n",
    "print(message)"
   ]
  },
  {
   "cell_type": "code",
   "execution_count": null,
   "id": "aa8dc729",
   "metadata": {},
   "outputs": [],
   "source": []
  },
  {
   "cell_type": "code",
   "execution_count": null,
   "id": "0e896182",
   "metadata": {},
   "outputs": [],
   "source": [
    "# general syntax of a for loop :"
   ]
  },
  {
   "cell_type": "code",
   "execution_count": null,
   "id": "17b101e0",
   "metadata": {},
   "outputs": [],
   "source": [
    "for tempvar in mainvar:\n",
    "    print(tempvar)"
   ]
  },
  {
   "cell_type": "code",
   "execution_count": 7,
   "id": "bf1d251f",
   "metadata": {},
   "outputs": [
    {
     "name": "stdout",
     "output_type": "stream",
     "text": [
      "keep up the good work, Kumar\n",
      "keep up the good work, Naveen\n",
      "keep up the good work, Vinaya\n",
      "keep up the good work, Samreen\n",
      "keep up the good work, Naveed\n",
      "keep up the good work, Sohail\n"
     ]
    }
   ],
   "source": [
    "for x in students:\n",
    "    print(f\"keep up the good work, {x.title()}\")"
   ]
  },
  {
   "cell_type": "code",
   "execution_count": 8,
   "id": "2c216f5a",
   "metadata": {},
   "outputs": [
    {
     "name": "stdout",
     "output_type": "stream",
     "text": [
      "keep up the good work, Kumar\n",
      "keep up the good work, Naveen\n",
      "keep up the good work, Vinaya\n",
      "keep up the good work, Samreen\n",
      "keep up the good work, Naveed\n",
      "keep up the good work, Sohail\n"
     ]
    }
   ],
   "source": [
    "for ironman in students:\n",
    "    print(f\"keep up the good work, {ironman.title()}\")"
   ]
  },
  {
   "cell_type": "code",
   "execution_count": null,
   "id": "db6c6424",
   "metadata": {},
   "outputs": [],
   "source": [
    "# enhancemeny of the code. ."
   ]
  },
  {
   "cell_type": "code",
   "execution_count": 9,
   "id": "f5af0398",
   "metadata": {},
   "outputs": [
    {
     "name": "stdout",
     "output_type": "stream",
     "text": [
      "keep up the good work, Kumar\n",
      "I will be looking forward to receive your github urls of today, Kumar\n",
      "keep up the good work, Naveen\n",
      "I will be looking forward to receive your github urls of today, Naveen\n",
      "keep up the good work, Vinaya\n",
      "I will be looking forward to receive your github urls of today, Vinaya\n",
      "keep up the good work, Samreen\n",
      "I will be looking forward to receive your github urls of today, Samreen\n",
      "keep up the good work, Naveed\n",
      "I will be looking forward to receive your github urls of today, Naveed\n",
      "keep up the good work, Sohail\n",
      "I will be looking forward to receive your github urls of today, Sohail\n"
     ]
    }
   ],
   "source": [
    "for x in students:\n",
    "    print(f\"keep up the good work, {x.title()}\")\n",
    "    print(f\"I will be looking forward to receive your github urls of today, {x.title()}\")"
   ]
  },
  {
   "cell_type": "code",
   "execution_count": null,
   "id": "cde63a74",
   "metadata": {},
   "outputs": [],
   "source": [
    "#enhancement of the code.."
   ]
  },
  {
   "cell_type": "code",
   "execution_count": 10,
   "id": "a65a6782",
   "metadata": {
    "scrolled": true
   },
   "outputs": [
    {
     "name": "stdout",
     "output_type": "stream",
     "text": [
      "keep up the good work, Kumar\n",
      "I will be looking forward to receive your github urls of today, Kumar\n",
      "\n",
      "keep up the good work, Naveen\n",
      "I will be looking forward to receive your github urls of today, Naveen\n",
      "\n",
      "keep up the good work, Vinaya\n",
      "I will be looking forward to receive your github urls of today, Vinaya\n",
      "\n",
      "keep up the good work, Samreen\n",
      "I will be looking forward to receive your github urls of today, Samreen\n",
      "\n",
      "keep up the good work, Naveed\n",
      "I will be looking forward to receive your github urls of today, Naveed\n",
      "\n",
      "keep up the good work, Sohail\n",
      "I will be looking forward to receive your github urls of today, Sohail\n",
      "\n"
     ]
    }
   ],
   "source": [
    "for x in students:\n",
    "    print(f\"keep up the good work, {x.title()}\")\n",
    "    print(f\"I will be looking forward to receive your github urls of today, {x.title()}\\n\")"
   ]
  },
  {
   "cell_type": "code",
   "execution_count": 13,
   "id": "58e67da1",
   "metadata": {},
   "outputs": [
    {
     "name": "stdout",
     "output_type": "stream",
     "text": [
      "keep up the good work, Kumar\n",
      "I will be looking forward to receive your github urls of today, Kumar\n",
      "\n",
      "keep up the good work, Naveen\n",
      "I will be looking forward to receive your github urls of today, Naveen\n",
      "\n",
      "keep up the good work, Vinaya\n",
      "I will be looking forward to receive your github urls of today, Vinaya\n",
      "\n",
      "keep up the good work, Samreen\n",
      "I will be looking forward to receive your github urls of today, Samreen\n",
      "\n",
      "keep up the good work, Naveed\n",
      "I will be looking forward to receive your github urls of today, Naveed\n",
      "\n",
      "keep up the good work, Sohail\n",
      "I will be looking forward to receive your github urls of today, Sohail\n",
      "\n",
      "Thank you all for joining in the Python training sessions\n"
     ]
    }
   ],
   "source": [
    "for x in students:\n",
    "    print(f\"keep up the good work, {x.title()}\")\n",
    "    print(f\"I will be looking forward to receive your github urls of today, {x.title()}\\n\")\n",
    "    \n",
    "print(\"Thank you all for joining in the Python training sessions\")"
   ]
  },
  {
   "cell_type": "code",
   "execution_count": null,
   "id": "fea71593",
   "metadata": {},
   "outputs": [],
   "source": []
  }
 ],
 "metadata": {
  "kernelspec": {
   "display_name": "Python 3 (ipykernel)",
   "language": "python",
   "name": "python3"
  },
  "language_info": {
   "codemirror_mode": {
    "name": "ipython",
    "version": 3
   },
   "file_extension": ".py",
   "mimetype": "text/x-python",
   "name": "python",
   "nbconvert_exporter": "python",
   "pygments_lexer": "ipython3",
   "version": "3.9.7"
  }
 },
 "nbformat": 4,
 "nbformat_minor": 5
}
