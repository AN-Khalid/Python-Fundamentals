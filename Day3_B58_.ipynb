{
 "cells": [
  {
   "cell_type": "code",
   "execution_count": null,
   "id": "11d55d5c",
   "metadata": {},
   "outputs": [],
   "source": [
    "continuation with strings : "
   ]
  },
  {
   "cell_type": "code",
   "execution_count": 1,
   "id": "f2d8cfa1",
   "metadata": {},
   "outputs": [
    {
     "name": "stdout",
     "output_type": "stream",
     "text": [
      "ravi kumar\n"
     ]
    }
   ],
   "source": [
    "full_name = 'ravi kumar'\n",
    "\n",
    "print(full_name)"
   ]
  },
  {
   "cell_type": "code",
   "execution_count": null,
   "id": "cb3135e8",
   "metadata": {},
   "outputs": [],
   "source": []
  },
  {
   "cell_type": "code",
   "execution_count": 2,
   "id": "db151689",
   "metadata": {},
   "outputs": [
    {
     "name": "stdout",
     "output_type": "stream",
     "text": [
      "Ravi Kumar\n"
     ]
    }
   ],
   "source": [
    "print(full_name.title())"
   ]
  },
  {
   "cell_type": "code",
   "execution_count": null,
   "id": "a1ed3ce7",
   "metadata": {},
   "outputs": [],
   "source": []
  },
  {
   "cell_type": "code",
   "execution_count": null,
   "id": "8ec7d65c",
   "metadata": {},
   "outputs": [],
   "source": [
    "# req : i want to get the fullname in captial letter..."
   ]
  },
  {
   "cell_type": "code",
   "execution_count": 3,
   "id": "43e9e274",
   "metadata": {},
   "outputs": [
    {
     "name": "stdout",
     "output_type": "stream",
     "text": [
      "RAVI KUMAR\n"
     ]
    }
   ],
   "source": [
    "print(full_name.upper())"
   ]
  },
  {
   "cell_type": "code",
   "execution_count": null,
   "id": "4cb7b3f5",
   "metadata": {},
   "outputs": [],
   "source": [
    "# req : I want to get the fullanme in lower letters... "
   ]
  },
  {
   "cell_type": "code",
   "execution_count": 4,
   "id": "f01a7d95",
   "metadata": {},
   "outputs": [
    {
     "name": "stdout",
     "output_type": "stream",
     "text": [
      "ravi kumar\n"
     ]
    }
   ],
   "source": [
    "print(full_name.lower())"
   ]
  },
  {
   "cell_type": "code",
   "execution_count": null,
   "id": "88db91fd",
   "metadata": {},
   "outputs": [],
   "source": []
  },
  {
   "cell_type": "code",
   "execution_count": null,
   "id": "2df19774",
   "metadata": {},
   "outputs": [],
   "source": [
    "Introduction to f strings :"
   ]
  },
  {
   "cell_type": "code",
   "execution_count": null,
   "id": "1d929e36",
   "metadata": {},
   "outputs": [],
   "source": [
    "# general syntax of an f string"
   ]
  },
  {
   "cell_type": "code",
   "execution_count": null,
   "id": "5f52f531",
   "metadata": {},
   "outputs": [],
   "source": [
    "f\" custom words {placeholder1} {placeholder2}.....{placeholder n} \""
   ]
  },
  {
   "cell_type": "code",
   "execution_count": null,
   "id": "cee59c59",
   "metadata": {},
   "outputs": [],
   "source": [
    "# req : I want to get the full name.... "
   ]
  },
  {
   "cell_type": "code",
   "execution_count": 20,
   "id": "ee467ff8",
   "metadata": {},
   "outputs": [
    {
     "name": "stdout",
     "output_type": "stream",
     "text": [
      "salman shaik\n"
     ]
    }
   ],
   "source": [
    "first_name =  'salman'\n",
    "last_name =  'shaik'\n",
    "\n",
    "full_name = f\"{first_name} {last_name}\"\n",
    "print(full_name)"
   ]
  },
  {
   "cell_type": "code",
   "execution_count": 22,
   "id": "e4153778",
   "metadata": {},
   "outputs": [
    {
     "name": "stdout",
     "output_type": "stream",
     "text": [
      "keep up the good work, salman shaik\n"
     ]
    }
   ],
   "source": [
    "message = f\"keep up the good work, {full_name}\"\n",
    "print(message)"
   ]
  },
  {
   "cell_type": "code",
   "execution_count": 23,
   "id": "fe324cc2",
   "metadata": {},
   "outputs": [
    {
     "name": "stdout",
     "output_type": "stream",
     "text": [
      "my first name is, salman\n"
     ]
    }
   ],
   "source": [
    "message = f\"my first name is, {first_name}\"\n",
    "print(message)"
   ]
  },
  {
   "cell_type": "code",
   "execution_count": null,
   "id": "a389f1ac",
   "metadata": {},
   "outputs": [],
   "source": []
  },
  {
   "cell_type": "code",
   "execution_count": null,
   "id": "6e2f0f05",
   "metadata": {},
   "outputs": [],
   "source": [
    "Adding whitespace to strings :"
   ]
  },
  {
   "cell_type": "code",
   "execution_count": 24,
   "id": "64450d15",
   "metadata": {},
   "outputs": [
    {
     "name": "stdout",
     "output_type": "stream",
     "text": [
      "favourite_language:pythonc++javacswiftjavascript\n"
     ]
    }
   ],
   "source": [
    "print(\"favourite_language:pythonc++javacswiftjavascript\")"
   ]
  },
  {
   "cell_type": "code",
   "execution_count": 25,
   "id": "e6a607a0",
   "metadata": {},
   "outputs": [
    {
     "name": "stdout",
     "output_type": "stream",
     "text": [
      "favourite_language:\n",
      "python\n",
      "c++\n",
      "java\n",
      "c\n",
      "swift\n",
      "javascript\n"
     ]
    }
   ],
   "source": [
    "print(\"favourite_language:\\npython\\nc++\\njava\\nc\\nswift\\njavascript\")"
   ]
  },
  {
   "cell_type": "code",
   "execution_count": null,
   "id": "17ce3308",
   "metadata": {},
   "outputs": [],
   "source": [
    "\\n ====> it is called as new line delimiter."
   ]
  },
  {
   "cell_type": "code",
   "execution_count": null,
   "id": "96f9c60c",
   "metadata": {},
   "outputs": [],
   "source": []
  },
  {
   "cell_type": "code",
   "execution_count": 26,
   "id": "66428a03",
   "metadata": {},
   "outputs": [
    {
     "name": "stdout",
     "output_type": "stream",
     "text": [
      "favourite_language:\n",
      "\tpython\n",
      "\tc++\n",
      "\tjava\n",
      "\tc\n",
      "\tswift\n",
      "\tjavascript\n"
     ]
    }
   ],
   "source": [
    "print(\"favourite_language:\\n\\tpython\\n\\tc++\\n\\tjava\\n\\tc\\n\\tswift\\n\\tjavascript\")"
   ]
  },
  {
   "cell_type": "code",
   "execution_count": null,
   "id": "af1a280d",
   "metadata": {},
   "outputs": [],
   "source": [
    "\\t ====> tab delimiter"
   ]
  },
  {
   "cell_type": "code",
   "execution_count": null,
   "id": "3114d986",
   "metadata": {},
   "outputs": [],
   "source": [
    "Removing whitespaces from strings :"
   ]
  },
  {
   "cell_type": "code",
   "execution_count": null,
   "id": "ec82264d",
   "metadata": {},
   "outputs": [],
   "source": []
  },
  {
   "cell_type": "code",
   "execution_count": 27,
   "id": "66f0b338",
   "metadata": {},
   "outputs": [
    {
     "name": "stdout",
     "output_type": "stream",
     "text": [
      "python\n"
     ]
    }
   ],
   "source": [
    "name = 'python'\n",
    "print(name)"
   ]
  },
  {
   "cell_type": "code",
   "execution_count": 28,
   "id": "e067fff5",
   "metadata": {},
   "outputs": [
    {
     "name": "stdout",
     "output_type": "stream",
     "text": [
      " java\n"
     ]
    }
   ],
   "source": [
    "name2 = ' java'\n",
    "print(name2)"
   ]
  },
  {
   "cell_type": "code",
   "execution_count": 29,
   "id": "73a29032",
   "metadata": {},
   "outputs": [
    {
     "name": "stdout",
     "output_type": "stream",
     "text": [
      "c++ \n"
     ]
    }
   ],
   "source": [
    "name3 = 'c++ '\n",
    "print(name3)"
   ]
  },
  {
   "cell_type": "code",
   "execution_count": 30,
   "id": "60fe56d6",
   "metadata": {},
   "outputs": [
    {
     "data": {
      "text/plain": [
       "'java'"
      ]
     },
     "execution_count": 30,
     "metadata": {},
     "output_type": "execute_result"
    }
   ],
   "source": [
    "name2. lstrip()"
   ]
  },
  {
   "cell_type": "code",
   "execution_count": 31,
   "id": "f633b8f9",
   "metadata": {},
   "outputs": [
    {
     "data": {
      "text/plain": [
       "'c++'"
      ]
     },
     "execution_count": 31,
     "metadata": {},
     "output_type": "execute_result"
    }
   ],
   "source": [
    "name3. rstrip()"
   ]
  },
  {
   "cell_type": "code",
   "execution_count": null,
   "id": "68eefa7e",
   "metadata": {},
   "outputs": [],
   "source": []
  }
 ],
 "metadata": {
  "kernelspec": {
   "display_name": "Python 3 (ipykernel)",
   "language": "python",
   "name": "python3"
  },
  "language_info": {
   "codemirror_mode": {
    "name": "ipython",
    "version": 3
   },
   "file_extension": ".py",
   "mimetype": "text/x-python",
   "name": "python",
   "nbconvert_exporter": "python",
   "pygments_lexer": "ipython3",
   "version": "3.9.7"
  }
 },
 "nbformat": 4,
 "nbformat_minor": 5
}
