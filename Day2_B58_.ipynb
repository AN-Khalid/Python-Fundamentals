{
 "cells": [
  {
   "cell_type": "code",
   "execution_count": null,
   "id": "2bd836fa",
   "metadata": {},
   "outputs": [],
   "source": [
    "Getting started in python fundamentals"
   ]
  },
  {
   "cell_type": "code",
   "execution_count": null,
   "id": "f8d41343",
   "metadata": {},
   "outputs": [],
   "source": []
  },
  {
   "cell_type": "code",
   "execution_count": null,
   "id": "3ad18b9a",
   "metadata": {},
   "outputs": [],
   "source": [
    "understanding the variables in python"
   ]
  },
  {
   "cell_type": "code",
   "execution_count": 6,
   "id": "7c404e8b",
   "metadata": {},
   "outputs": [],
   "source": [
    "x=3\n",
    "y=2"
   ]
  },
  {
   "cell_type": "code",
   "execution_count": 7,
   "id": "8bc458b0",
   "metadata": {},
   "outputs": [
    {
     "data": {
      "text/plain": [
       "5"
      ]
     },
     "execution_count": 7,
     "metadata": {},
     "output_type": "execute_result"
    }
   ],
   "source": [
    "x+y"
   ]
  },
  {
   "cell_type": "code",
   "execution_count": null,
   "id": "12ca6de4",
   "metadata": {},
   "outputs": [],
   "source": []
  },
  {
   "cell_type": "code",
   "execution_count": null,
   "id": "e805a2da",
   "metadata": {},
   "outputs": [],
   "source": [
    "Rules for declaring the variable in python :"
   ]
  },
  {
   "cell_type": "code",
   "execution_count": null,
   "id": "43422e00",
   "metadata": {},
   "outputs": [],
   "source": [
    "1. Rule no : A variable should not contain any namespace."
   ]
  },
  {
   "cell_type": "code",
   "execution_count": null,
   "id": "63cbb1da",
   "metadata": {},
   "outputs": [],
   "source": []
  },
  {
   "cell_type": "code",
   "execution_count": 8,
   "id": "5023daeb",
   "metadata": {},
   "outputs": [
    {
     "ename": "SyntaxError",
     "evalue": "invalid syntax (Temp/ipykernel_5516/2560081158.py, line 1)",
     "output_type": "error",
     "traceback": [
      "\u001b[1;36m  File \u001b[1;32m\"C:\\Users\\ankha\\AppData\\Local\\Temp/ipykernel_5516/2560081158.py\"\u001b[1;36m, line \u001b[1;32m1\u001b[0m\n\u001b[1;33m    first name = 'Khalid'\u001b[0m\n\u001b[1;37m          ^\u001b[0m\n\u001b[1;31mSyntaxError\u001b[0m\u001b[1;31m:\u001b[0m invalid syntax\n"
     ]
    }
   ],
   "source": [
    "first name = 'Khalid'\n",
    "\n",
    "print(first name)"
   ]
  },
  {
   "cell_type": "code",
   "execution_count": 10,
   "id": "9bbeaa6d",
   "metadata": {},
   "outputs": [
    {
     "name": "stdout",
     "output_type": "stream",
     "text": [
      "Khalid\n"
     ]
    }
   ],
   "source": [
    "firstname = 'Khalid'\n",
    "\n",
    "print(firstname)"
   ]
  },
  {
   "cell_type": "code",
   "execution_count": null,
   "id": "97bb9077",
   "metadata": {},
   "outputs": [],
   "source": []
  },
  {
   "cell_type": "code",
   "execution_count": null,
   "id": "915be8fa",
   "metadata": {},
   "outputs": [],
   "source": [
    "Rule No 2 : A variable name should not start with a number **"
   ]
  },
  {
   "cell_type": "code",
   "execution_count": 12,
   "id": "59c31081",
   "metadata": {},
   "outputs": [
    {
     "ename": "SyntaxError",
     "evalue": "invalid syntax (Temp/ipykernel_5516/197132863.py, line 1)",
     "output_type": "error",
     "traceback": [
      "\u001b[1;36m  File \u001b[1;32m\"C:\\Users\\ankha\\AppData\\Local\\Temp/ipykernel_5516/197132863.py\"\u001b[1;36m, line \u001b[1;32m1\u001b[0m\n\u001b[1;33m    1name = 'Abdul'\u001b[0m\n\u001b[1;37m     ^\u001b[0m\n\u001b[1;31mSyntaxError\u001b[0m\u001b[1;31m:\u001b[0m invalid syntax\n"
     ]
    }
   ],
   "source": [
    "1name = 'Abdul'\n",
    "print(1name)"
   ]
  },
  {
   "cell_type": "code",
   "execution_count": 13,
   "id": "ffb95646",
   "metadata": {},
   "outputs": [
    {
     "name": "stdout",
     "output_type": "stream",
     "text": [
      "Abdul\n"
     ]
    }
   ],
   "source": [
    "name1 = 'Abdul'\n",
    "print(name1)\n"
   ]
  },
  {
   "cell_type": "code",
   "execution_count": null,
   "id": "4b159b2a",
   "metadata": {},
   "outputs": [],
   "source": [
    "Rule No 3 : A variable should not contain any special characters."
   ]
  },
  {
   "cell_type": "code",
   "execution_count": null,
   "id": "5da6e6eb",
   "metadata": {},
   "outputs": [],
   "source": [
    "$@&^*"
   ]
  },
  {
   "cell_type": "code",
   "execution_count": 15,
   "id": "189e2989",
   "metadata": {},
   "outputs": [
    {
     "ename": "SyntaxError",
     "evalue": "invalid syntax (Temp/ipykernel_5516/2536965005.py, line 1)",
     "output_type": "error",
     "traceback": [
      "\u001b[1;36m  File \u001b[1;32m\"C:\\Users\\ankha\\AppData\\Local\\Temp/ipykernel_5516/2536965005.py\"\u001b[1;36m, line \u001b[1;32m1\u001b[0m\n\u001b[1;33m    name@ = 'Sam'\u001b[0m\n\u001b[1;37m          ^\u001b[0m\n\u001b[1;31mSyntaxError\u001b[0m\u001b[1;31m:\u001b[0m invalid syntax\n"
     ]
    }
   ],
   "source": [
    "name@ = 'Sam'\n",
    "print(name@)"
   ]
  },
  {
   "cell_type": "code",
   "execution_count": null,
   "id": "f50ddc66",
   "metadata": {},
   "outputs": [],
   "source": []
  },
  {
   "cell_type": "code",
   "execution_count": null,
   "id": "4685139a",
   "metadata": {},
   "outputs": [],
   "source": [
    "Introduction to datatypes in python : "
   ]
  },
  {
   "cell_type": "code",
   "execution_count": null,
   "id": "e35d1e58",
   "metadata": {},
   "outputs": [],
   "source": [
    "string =====> str"
   ]
  },
  {
   "cell_type": "code",
   "execution_count": null,
   "id": "e82b1e6f",
   "metadata": {},
   "outputs": [],
   "source": [
    "Numbers ------> integers (int) and float (float(decimals))"
   ]
  },
  {
   "cell_type": "code",
   "execution_count": null,
   "id": "cb04fc4b",
   "metadata": {},
   "outputs": [],
   "source": [
    "list =====> list"
   ]
  },
  {
   "cell_type": "code",
   "execution_count": null,
   "id": "71f8e3cf",
   "metadata": {},
   "outputs": [],
   "source": [
    "tuple ===> tuple"
   ]
  },
  {
   "cell_type": "code",
   "execution_count": null,
   "id": "02fc4e08",
   "metadata": {},
   "outputs": [],
   "source": [
    "Dictionaries ======> dict"
   ]
  },
  {
   "cell_type": "code",
   "execution_count": null,
   "id": "a6e5f91f",
   "metadata": {},
   "outputs": [],
   "source": []
  },
  {
   "cell_type": "code",
   "execution_count": null,
   "id": "1d773e57",
   "metadata": {},
   "outputs": [],
   "source": [
    "Classification of datatypes : \n",
    "    \n",
    "    Data types are broadly classified in two categories :\n",
    "        1. mutable datatypes ------> which can be edie or alter ======> flexible \n",
    "        2. immutable datatypes ------> which we cannot edit or alter ====> fixed "
   ]
  },
  {
   "cell_type": "code",
   "execution_count": null,
   "id": "53a1d77a",
   "metadata": {},
   "outputs": [],
   "source": []
  },
  {
   "cell_type": "code",
   "execution_count": null,
   "id": "4c2162d8",
   "metadata": {},
   "outputs": [],
   "source": [
    "Introduction to string datatypes :\n",
    "    \n",
    "Definition : A string is series of characters declared in quotes. \n",
    "\n",
    "classification : it is classified as an immutable datatypes (fixed datatype)\n",
    "    \n",
    "    \n",
    "how to declare the string date type : ====> 3 possible options for declaring the string\n",
    "    \n",
    "    1. single quote\n",
    "    2. double quote\n",
    "    3. triple quote"
   ]
  },
  {
   "cell_type": "code",
   "execution_count": null,
   "id": "a66a6594",
   "metadata": {},
   "outputs": [],
   "source": []
  },
  {
   "cell_type": "code",
   "execution_count": 17,
   "id": "0e4a5a9b",
   "metadata": {},
   "outputs": [
    {
     "name": "stdout",
     "output_type": "stream",
     "text": [
      "Ramesh\n"
     ]
    }
   ],
   "source": [
    "name = 'Ramesh'   #Single quote\n",
    "print(name)"
   ]
  },
  {
   "cell_type": "code",
   "execution_count": 25,
   "id": "497944d9",
   "metadata": {},
   "outputs": [
    {
     "name": "stdout",
     "output_type": "stream",
     "text": [
      "Suresh\n"
     ]
    }
   ],
   "source": [
    "name2 = \"Suresh\"   #double quote\n",
    "print(name2)"
   ]
  },
  {
   "cell_type": "code",
   "execution_count": 26,
   "id": "5fc596f1",
   "metadata": {},
   "outputs": [
    {
     "name": "stdout",
     "output_type": "stream",
     "text": [
      "Malesh\n"
     ]
    }
   ],
   "source": [
    "name3 = \"\"\"Malesh\"\"\"   #triple quote\n",
    "print(name3)"
   ]
  },
  {
   "cell_type": "code",
   "execution_count": null,
   "id": "e91e0da0",
   "metadata": {},
   "outputs": [],
   "source": [
    "# hash is used for commenting the code ...!"
   ]
  },
  {
   "cell_type": "code",
   "execution_count": null,
   "id": "addff4d7",
   "metadata": {},
   "outputs": [],
   "source": [
    "# shift+enter button together on the keyboard"
   ]
  },
  {
   "cell_type": "code",
   "execution_count": null,
   "id": "e2ba51e4",
   "metadata": {},
   "outputs": [],
   "source": [
    "\n"
   ]
  },
  {
   "cell_type": "code",
   "execution_count": null,
   "id": "2426ba3c",
   "metadata": {},
   "outputs": [],
   "source": [
    "Introduction tp string methods :"
   ]
  },
  {
   "cell_type": "code",
   "execution_count": 21,
   "id": "98c33d88",
   "metadata": {},
   "outputs": [
    {
     "data": {
      "text/plain": [
       "str"
      ]
     },
     "execution_count": 21,
     "metadata": {},
     "output_type": "execute_result"
    }
   ],
   "source": [
    "type(name)"
   ]
  },
  {
   "cell_type": "code",
   "execution_count": 27,
   "id": "e7d82328",
   "metadata": {},
   "outputs": [
    {
     "data": {
      "text/plain": [
       "str"
      ]
     },
     "execution_count": 27,
     "metadata": {},
     "output_type": "execute_result"
    }
   ],
   "source": [
    "type(name2)"
   ]
  },
  {
   "cell_type": "code",
   "execution_count": 28,
   "id": "c83ff3aa",
   "metadata": {},
   "outputs": [
    {
     "data": {
      "text/plain": [
       "str"
      ]
     },
     "execution_count": 28,
     "metadata": {},
     "output_type": "execute_result"
    }
   ],
   "source": [
    "type(name3)"
   ]
  },
  {
   "cell_type": "code",
   "execution_count": null,
   "id": "e561c508",
   "metadata": {},
   "outputs": [],
   "source": []
  },
  {
   "cell_type": "code",
   "execution_count": null,
   "id": "131e78d7",
   "metadata": {},
   "outputs": [],
   "source": []
  }
 ],
 "metadata": {
  "kernelspec": {
   "display_name": "Python 3 (ipykernel)",
   "language": "python",
   "name": "python3"
  },
  "language_info": {
   "codemirror_mode": {
    "name": "ipython",
    "version": 3
   },
   "file_extension": ".py",
   "mimetype": "text/x-python",
   "name": "python",
   "nbconvert_exporter": "python",
   "pygments_lexer": "ipython3",
   "version": "3.9.7"
  }
 },
 "nbformat": 4,
 "nbformat_minor": 5
}
