{
 "cells": [
  {
   "cell_type": "code",
   "execution_count": null,
   "id": "1f541a25",
   "metadata": {},
   "outputs": [],
   "source": [
    "Introduction to list datatype :"
   ]
  },
  {
   "cell_type": "code",
   "execution_count": null,
   "id": "35e521e8",
   "metadata": {},
   "outputs": [],
   "source": [
    "definition : A list is a collection of items declared in a particular order. \n",
    "\n",
    "classification : it is classified as a mutable datatype\n",
    "    \n",
    "how to define / declare a list .... ? =====> []"
   ]
  },
  {
   "cell_type": "code",
   "execution_count": null,
   "id": "f04a9d05",
   "metadata": {},
   "outputs": [],
   "source": []
  },
  {
   "cell_type": "code",
   "execution_count": 7,
   "id": "ba0ae626",
   "metadata": {},
   "outputs": [],
   "source": [
    "students = ['naveen','abdul','imran','joseph','keerthi','shaheen','dolly','navya']#0,1,2,3,4,5,6,7"
   ]
  },
  {
   "cell_type": "code",
   "execution_count": 8,
   "id": "b901aa37",
   "metadata": {},
   "outputs": [
    {
     "name": "stdout",
     "output_type": "stream",
     "text": [
      "['naveen', 'abdul', 'imran', 'joseph', 'keerthi', 'shaheen', 'dolly', 'navya']\n"
     ]
    }
   ],
   "source": [
    "print(students)"
   ]
  },
  {
   "cell_type": "code",
   "execution_count": null,
   "id": "2e0db067",
   "metadata": {},
   "outputs": [],
   "source": []
  },
  {
   "cell_type": "code",
   "execution_count": 9,
   "id": "214ee0b1",
   "metadata": {},
   "outputs": [
    {
     "data": {
      "text/plain": [
       "list"
      ]
     },
     "execution_count": 9,
     "metadata": {},
     "output_type": "execute_result"
    }
   ],
   "source": [
    "type(students)"
   ]
  },
  {
   "cell_type": "code",
   "execution_count": null,
   "id": "eb3481cd",
   "metadata": {},
   "outputs": [],
   "source": [
    "1. how to access the above elements in the list....?"
   ]
  },
  {
   "cell_type": "code",
   "execution_count": null,
   "id": "d4c23a97",
   "metadata": {},
   "outputs": [],
   "source": [
    "#req : how to access abdul name from the above list ? "
   ]
  },
  {
   "cell_type": "code",
   "execution_count": null,
   "id": "5f2721f2",
   "metadata": {},
   "outputs": [],
   "source": []
  },
  {
   "cell_type": "code",
   "execution_count": null,
   "id": "0c6379e0",
   "metadata": {},
   "outputs": [],
   "source": [
    "introduction to indexing : 0,1,2,3,........!"
   ]
  },
  {
   "cell_type": "code",
   "execution_count": 11,
   "id": "c02f733e",
   "metadata": {},
   "outputs": [
    {
     "name": "stdout",
     "output_type": "stream",
     "text": [
      "abdul\n"
     ]
    }
   ],
   "source": [
    "print(students[1])"
   ]
  },
  {
   "cell_type": "code",
   "execution_count": null,
   "id": "6972a4c3",
   "metadata": {},
   "outputs": [],
   "source": [
    "#req : i want to print keerthi name from the above list... ?"
   ]
  },
  {
   "cell_type": "code",
   "execution_count": 12,
   "id": "819c98ac",
   "metadata": {},
   "outputs": [
    {
     "name": "stdout",
     "output_type": "stream",
     "text": [
      "keerthi\n"
     ]
    }
   ],
   "source": [
    "print(students[4])"
   ]
  },
  {
   "cell_type": "code",
   "execution_count": null,
   "id": "82128236",
   "metadata": {},
   "outputs": [],
   "source": []
  },
  {
   "cell_type": "code",
   "execution_count": null,
   "id": "dad8dd5c",
   "metadata": {},
   "outputs": [],
   "source": [
    "1. how to add new elements to the list\n",
    "2. how to modify the elements in the list\n",
    "3. how to delete the elements from the above list... ? "
   ]
  },
  {
   "cell_type": "code",
   "execution_count": null,
   "id": "2c17e0e0",
   "metadata": {},
   "outputs": [],
   "source": []
  },
  {
   "cell_type": "code",
   "execution_count": 13,
   "id": "d25568ff",
   "metadata": {},
   "outputs": [
    {
     "name": "stdout",
     "output_type": "stream",
     "text": [
      "['naveen', 'abdul', 'imran', 'joseph', 'keerthi', 'shaheen', 'dolly', 'navya']\n"
     ]
    }
   ],
   "source": [
    "print(students)"
   ]
  },
  {
   "cell_type": "code",
   "execution_count": null,
   "id": "a940b519",
   "metadata": {},
   "outputs": [],
   "source": [
    "# req 1 : want to add kumar name to the list "
   ]
  },
  {
   "cell_type": "code",
   "execution_count": 14,
   "id": "348ba02a",
   "metadata": {},
   "outputs": [],
   "source": [
    "students.append('kumar')"
   ]
  },
  {
   "cell_type": "code",
   "execution_count": 15,
   "id": "bd95d2a9",
   "metadata": {},
   "outputs": [
    {
     "name": "stdout",
     "output_type": "stream",
     "text": [
      "['naveen', 'abdul', 'imran', 'joseph', 'keerthi', 'shaheen', 'dolly', 'navya', 'kumar']\n"
     ]
    }
   ],
   "source": [
    "print(students)"
   ]
  },
  {
   "cell_type": "code",
   "execution_count": null,
   "id": "dbb33769",
   "metadata": {},
   "outputs": [],
   "source": [
    "# req : I want to add sana name to the list "
   ]
  },
  {
   "cell_type": "code",
   "execution_count": 16,
   "id": "dd423140",
   "metadata": {},
   "outputs": [],
   "source": [
    "students.append('sana')"
   ]
  },
  {
   "cell_type": "code",
   "execution_count": 17,
   "id": "907d2770",
   "metadata": {},
   "outputs": [
    {
     "name": "stdout",
     "output_type": "stream",
     "text": [
      "['naveen', 'abdul', 'imran', 'joseph', 'keerthi', 'shaheen', 'dolly', 'navya', 'kumar', 'sana']\n"
     ]
    }
   ],
   "source": [
    "print(students)"
   ]
  },
  {
   "cell_type": "code",
   "execution_count": null,
   "id": "db7b0cd9",
   "metadata": {},
   "outputs": [],
   "source": [
    "#req : I want to add yamini name to the above list at the 2nd position.....?"
   ]
  },
  {
   "cell_type": "code",
   "execution_count": 18,
   "id": "6b3a1938",
   "metadata": {},
   "outputs": [],
   "source": [
    "students.insert(2,'yamini')"
   ]
  },
  {
   "cell_type": "code",
   "execution_count": 19,
   "id": "98e61c43",
   "metadata": {},
   "outputs": [
    {
     "name": "stdout",
     "output_type": "stream",
     "text": [
      "['naveen', 'abdul', 'yamini', 'imran', 'joseph', 'keerthi', 'shaheen', 'dolly', 'navya', 'kumar', 'sana']\n"
     ]
    }
   ],
   "source": [
    "print(students)"
   ]
  },
  {
   "cell_type": "code",
   "execution_count": 20,
   "id": "dbef5339",
   "metadata": {},
   "outputs": [
    {
     "name": "stdout",
     "output_type": "stream",
     "text": [
      "yamini\n"
     ]
    }
   ],
   "source": [
    "print(students[2])"
   ]
  },
  {
   "cell_type": "code",
   "execution_count": null,
   "id": "411f433e",
   "metadata": {},
   "outputs": [],
   "source": [
    "interview question : what is the difference between append and insert method in the list... ?"
   ]
  },
  {
   "cell_type": "code",
   "execution_count": 21,
   "id": "5047b085",
   "metadata": {},
   "outputs": [
    {
     "name": "stdout",
     "output_type": "stream",
     "text": [
      "['naveen', 'abdul', 'yamini', 'imran', 'joseph', 'keerthi', 'shaheen', 'dolly', 'navya', 'kumar', 'sana']\n"
     ]
    }
   ],
   "source": [
    "print(students)"
   ]
  },
  {
   "cell_type": "code",
   "execution_count": null,
   "id": "057c297d",
   "metadata": {},
   "outputs": [],
   "source": [
    "# Req 2 : I want to modify naveen name to navya....?"
   ]
  },
  {
   "cell_type": "code",
   "execution_count": 23,
   "id": "04f1e2e1",
   "metadata": {},
   "outputs": [
    {
     "name": "stdout",
     "output_type": "stream",
     "text": [
      "naveen\n"
     ]
    }
   ],
   "source": [
    "print(students[0])"
   ]
  },
  {
   "cell_type": "code",
   "execution_count": 25,
   "id": "9e078dd7",
   "metadata": {},
   "outputs": [],
   "source": [
    "students[0] = 'navya'"
   ]
  },
  {
   "cell_type": "code",
   "execution_count": 26,
   "id": "ef43e745",
   "metadata": {},
   "outputs": [
    {
     "name": "stdout",
     "output_type": "stream",
     "text": [
      "['navya', 'abdul', 'yamini', 'imran', 'joseph', 'keerthi', 'shaheen', 'dolly', 'navya', 'kumar', 'sana']\n"
     ]
    }
   ],
   "source": [
    "print(students)"
   ]
  },
  {
   "cell_type": "code",
   "execution_count": null,
   "id": "97f676a2",
   "metadata": {},
   "outputs": [],
   "source": [
    "# req 3 : I want to delete joseph name from the list "
   ]
  },
  {
   "cell_type": "code",
   "execution_count": 28,
   "id": "1f914e66",
   "metadata": {},
   "outputs": [],
   "source": [
    "del students[4]  # permanently deleting the elements from the list"
   ]
  },
  {
   "cell_type": "code",
   "execution_count": 29,
   "id": "4c3ce559",
   "metadata": {},
   "outputs": [
    {
     "name": "stdout",
     "output_type": "stream",
     "text": [
      "['navya', 'abdul', 'yamini', 'imran', 'keerthi', 'shaheen', 'dolly', 'navya', 'kumar', 'sana']\n"
     ]
    }
   ],
   "source": [
    "print(students)"
   ]
  },
  {
   "cell_type": "code",
   "execution_count": null,
   "id": "eb84029e",
   "metadata": {},
   "outputs": [],
   "source": [
    "# temp deleting the elements from the list --****"
   ]
  },
  {
   "cell_type": "code",
   "execution_count": null,
   "id": "f7060a29",
   "metadata": {},
   "outputs": [],
   "source": [
    "pop ---> it is used to delete the the things temp ===> it will be carbon copy of the deleted items and stores in the variable assigned to it. \n",
    "\n",
    "pop ----> by default will be deleting the last element in the list."
   ]
  },
  {
   "cell_type": "code",
   "execution_count": 30,
   "id": "0d20c7be",
   "metadata": {},
   "outputs": [
    {
     "name": "stdout",
     "output_type": "stream",
     "text": [
      "['navya', 'abdul', 'yamini', 'imran', 'keerthi', 'shaheen', 'dolly', 'navya', 'kumar', 'sana']\n"
     ]
    }
   ],
   "source": [
    "print(students)"
   ]
  },
  {
   "cell_type": "code",
   "execution_count": 31,
   "id": "b9bae67e",
   "metadata": {},
   "outputs": [],
   "source": [
    "x = students.pop()"
   ]
  },
  {
   "cell_type": "code",
   "execution_count": 32,
   "id": "657cd8dd",
   "metadata": {},
   "outputs": [
    {
     "name": "stdout",
     "output_type": "stream",
     "text": [
      "['navya', 'abdul', 'yamini', 'imran', 'keerthi', 'shaheen', 'dolly', 'navya', 'kumar']\n"
     ]
    }
   ],
   "source": [
    "print(students)"
   ]
  },
  {
   "cell_type": "code",
   "execution_count": 33,
   "id": "36b829de",
   "metadata": {},
   "outputs": [
    {
     "name": "stdout",
     "output_type": "stream",
     "text": [
      "sana\n"
     ]
    }
   ],
   "source": [
    "print(x)"
   ]
  },
  {
   "cell_type": "code",
   "execution_count": null,
   "id": "02871fd3",
   "metadata": {},
   "outputs": [],
   "source": [
    "Interview question : what is the difference betweeen delet and pop method in a list.... ?"
   ]
  },
  {
   "cell_type": "code",
   "execution_count": null,
   "id": "1a8ca617",
   "metadata": {},
   "outputs": [],
   "source": []
  }
 ],
 "metadata": {
  "kernelspec": {
   "display_name": "Python 3 (ipykernel)",
   "language": "python",
   "name": "python3"
  },
  "language_info": {
   "codemirror_mode": {
    "name": "ipython",
    "version": 3
   },
   "file_extension": ".py",
   "mimetype": "text/x-python",
   "name": "python",
   "nbconvert_exporter": "python",
   "pygments_lexer": "ipython3",
   "version": "3.9.7"
  }
 },
 "nbformat": 4,
 "nbformat_minor": 5
}
